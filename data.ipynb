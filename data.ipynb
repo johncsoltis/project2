{
 "cells": [
  {
   "cell_type": "code",
   "execution_count": 14,
   "metadata": {},
   "outputs": [],
   "source": [
    "import pandas as pd\n",
    "import statsapi"
   ]
  },
  {
   "cell_type": "code",
   "execution_count": 15,
   "metadata": {},
   "outputs": [],
   "source": [
    " url = \"http://www.espn.com/mlb/war/leaders/_/type/seasonal/year/20\""
   ]
  },
  {
   "cell_type": "code",
   "execution_count": 16,
   "metadata": {},
   "outputs": [],
   "source": [
    "year_list = ['19', '18', '17', '16', '15']\n",
    "df_list = []"
   ]
  },
  {
   "cell_type": "code",
   "execution_count": 25,
   "metadata": {},
   "outputs": [],
   "source": [
    "for year in year_list:\n",
    "    query_url = url+year\n",
    "    qdfl = pd.read_html(query_url)\n",
    "    qdfl[0]['season'] = year\n",
    "    df_list.append(qdfl[0])"
   ]
  },
  {
   "cell_type": "code",
   "execution_count": 26,
   "metadata": {},
   "outputs": [
    {
     "data": {
      "text/html": [
       "<div>\n",
       "<style scoped>\n",
       "    .dataframe tbody tr th:only-of-type {\n",
       "        vertical-align: middle;\n",
       "    }\n",
       "\n",
       "    .dataframe tbody tr th {\n",
       "        vertical-align: top;\n",
       "    }\n",
       "\n",
       "    .dataframe thead th {\n",
       "        text-align: right;\n",
       "    }\n",
       "</style>\n",
       "<table border=\"1\" class=\"dataframe\">\n",
       "  <thead>\n",
       "    <tr style=\"text-align: right;\">\n",
       "      <th></th>\n",
       "      <th>0</th>\n",
       "      <th>1</th>\n",
       "      <th>2</th>\n",
       "      <th>3</th>\n",
       "      <th>4</th>\n",
       "      <th>5</th>\n",
       "      <th>6</th>\n",
       "      <th>7</th>\n",
       "      <th>8</th>\n",
       "      <th>9</th>\n",
       "      <th>season</th>\n",
       "    </tr>\n",
       "  </thead>\n",
       "  <tbody>\n",
       "    <tr>\n",
       "      <th>0</th>\n",
       "      <td>2019 Season WAR Leaders</td>\n",
       "      <td>2019 Season WAR Leaders</td>\n",
       "      <td>2019 Season WAR Leaders</td>\n",
       "      <td>2019 Season WAR Leaders</td>\n",
       "      <td>2019 Season WAR Leaders</td>\n",
       "      <td>2019 Season WAR Leaders</td>\n",
       "      <td>2019 Season WAR Leaders</td>\n",
       "      <td>2019 Season WAR Leaders</td>\n",
       "      <td>2019 Season WAR Leaders</td>\n",
       "      <td>2019 Season WAR Leaders</td>\n",
       "      <td>19</td>\n",
       "    </tr>\n",
       "    <tr>\n",
       "      <th>1</th>\n",
       "      <td>RK</td>\n",
       "      <td>PLAYER</td>\n",
       "      <td>WAR</td>\n",
       "      <td>OFF</td>\n",
       "      <td>DEF</td>\n",
       "      <td>WAA</td>\n",
       "      <td>TRPG</td>\n",
       "      <td>ORPG</td>\n",
       "      <td>RAA</td>\n",
       "      <td>WAAWP</td>\n",
       "      <td>19</td>\n",
       "    </tr>\n",
       "    <tr>\n",
       "      <th>2</th>\n",
       "      <td>1</td>\n",
       "      <td>Cody Bellinger</td>\n",
       "      <td>9</td>\n",
       "      <td>6.6</td>\n",
       "      <td>1.9</td>\n",
       "      <td>7</td>\n",
       "      <td>5</td>\n",
       "      <td>4.7</td>\n",
       "      <td>72.9</td>\n",
       "      <td>0.5</td>\n",
       "      <td>19</td>\n",
       "    </tr>\n",
       "    <tr>\n",
       "      <th>3</th>\n",
       "      <td>2</td>\n",
       "      <td>Alex Bregman</td>\n",
       "      <td>8.4</td>\n",
       "      <td>7.7</td>\n",
       "      <td>1.2</td>\n",
       "      <td>6.1</td>\n",
       "      <td>5.3</td>\n",
       "      <td>5</td>\n",
       "      <td>62</td>\n",
       "      <td>0.5</td>\n",
       "      <td>19</td>\n",
       "    </tr>\n",
       "    <tr>\n",
       "      <th>4</th>\n",
       "      <td>3</td>\n",
       "      <td>Mike Trout</td>\n",
       "      <td>8.3</td>\n",
       "      <td>8.3</td>\n",
       "      <td>0.3</td>\n",
       "      <td>6.3</td>\n",
       "      <td>5.5</td>\n",
       "      <td>5</td>\n",
       "      <td>65.7</td>\n",
       "      <td>0.5</td>\n",
       "      <td>19</td>\n",
       "    </tr>\n",
       "  </tbody>\n",
       "</table>\n",
       "</div>"
      ],
      "text/plain": [
       "                         0                        1                        2  \\\n",
       "0  2019 Season WAR Leaders  2019 Season WAR Leaders  2019 Season WAR Leaders   \n",
       "1                       RK                   PLAYER                      WAR   \n",
       "2                        1           Cody Bellinger                        9   \n",
       "3                        2             Alex Bregman                      8.4   \n",
       "4                        3               Mike Trout                      8.3   \n",
       "\n",
       "                         3                        4                        5  \\\n",
       "0  2019 Season WAR Leaders  2019 Season WAR Leaders  2019 Season WAR Leaders   \n",
       "1                      OFF                      DEF                      WAA   \n",
       "2                      6.6                      1.9                        7   \n",
       "3                      7.7                      1.2                      6.1   \n",
       "4                      8.3                      0.3                      6.3   \n",
       "\n",
       "                         6                        7                        8  \\\n",
       "0  2019 Season WAR Leaders  2019 Season WAR Leaders  2019 Season WAR Leaders   \n",
       "1                     TRPG                     ORPG                      RAA   \n",
       "2                        5                      4.7                     72.9   \n",
       "3                      5.3                        5                       62   \n",
       "4                      5.5                        5                     65.7   \n",
       "\n",
       "                         9 season  \n",
       "0  2019 Season WAR Leaders     19  \n",
       "1                    WAAWP     19  \n",
       "2                      0.5     19  \n",
       "3                      0.5     19  \n",
       "4                      0.5     19  "
      ]
     },
     "execution_count": 26,
     "metadata": {},
     "output_type": "execute_result"
    }
   ],
   "source": [
    "data = pd.concat(df_list)\n",
    "data.head()"
   ]
  },
  {
   "cell_type": "code",
   "execution_count": 27,
   "metadata": {},
   "outputs": [],
   "source": [
    "cols = ['rank', 'player', 'WAR', 'OFF', 'DEF', 'WAA', 'TRPG', 'ORPG', 'RAA', 'WAAWP', 'Season']"
   ]
  },
  {
   "cell_type": "code",
   "execution_count": 28,
   "metadata": {},
   "outputs": [
    {
     "data": {
      "text/html": [
       "<div>\n",
       "<style scoped>\n",
       "    .dataframe tbody tr th:only-of-type {\n",
       "        vertical-align: middle;\n",
       "    }\n",
       "\n",
       "    .dataframe tbody tr th {\n",
       "        vertical-align: top;\n",
       "    }\n",
       "\n",
       "    .dataframe thead th {\n",
       "        text-align: right;\n",
       "    }\n",
       "</style>\n",
       "<table border=\"1\" class=\"dataframe\">\n",
       "  <thead>\n",
       "    <tr style=\"text-align: right;\">\n",
       "      <th></th>\n",
       "      <th>player</th>\n",
       "      <th>WAR</th>\n",
       "      <th>OFF</th>\n",
       "      <th>DEF</th>\n",
       "      <th>WAA</th>\n",
       "      <th>TRPG</th>\n",
       "      <th>ORPG</th>\n",
       "      <th>RAA</th>\n",
       "      <th>WAAWP</th>\n",
       "      <th>Season</th>\n",
       "    </tr>\n",
       "  </thead>\n",
       "  <tbody>\n",
       "    <tr>\n",
       "      <th>0</th>\n",
       "      <td>2019 Season WAR Leaders</td>\n",
       "      <td>2019 Season WAR Leaders</td>\n",
       "      <td>2019 Season WAR Leaders</td>\n",
       "      <td>2019 Season WAR Leaders</td>\n",
       "      <td>2019 Season WAR Leaders</td>\n",
       "      <td>2019 Season WAR Leaders</td>\n",
       "      <td>2019 Season WAR Leaders</td>\n",
       "      <td>2019 Season WAR Leaders</td>\n",
       "      <td>2019 Season WAR Leaders</td>\n",
       "      <td>19</td>\n",
       "    </tr>\n",
       "    <tr>\n",
       "      <th>1</th>\n",
       "      <td>PLAYER</td>\n",
       "      <td>WAR</td>\n",
       "      <td>OFF</td>\n",
       "      <td>DEF</td>\n",
       "      <td>WAA</td>\n",
       "      <td>TRPG</td>\n",
       "      <td>ORPG</td>\n",
       "      <td>RAA</td>\n",
       "      <td>WAAWP</td>\n",
       "      <td>19</td>\n",
       "    </tr>\n",
       "    <tr>\n",
       "      <th>2</th>\n",
       "      <td>Cody Bellinger</td>\n",
       "      <td>9</td>\n",
       "      <td>6.6</td>\n",
       "      <td>1.9</td>\n",
       "      <td>7</td>\n",
       "      <td>5</td>\n",
       "      <td>4.7</td>\n",
       "      <td>72.9</td>\n",
       "      <td>0.5</td>\n",
       "      <td>19</td>\n",
       "    </tr>\n",
       "    <tr>\n",
       "      <th>3</th>\n",
       "      <td>Alex Bregman</td>\n",
       "      <td>8.4</td>\n",
       "      <td>7.7</td>\n",
       "      <td>1.2</td>\n",
       "      <td>6.1</td>\n",
       "      <td>5.3</td>\n",
       "      <td>5</td>\n",
       "      <td>62</td>\n",
       "      <td>0.5</td>\n",
       "      <td>19</td>\n",
       "    </tr>\n",
       "    <tr>\n",
       "      <th>4</th>\n",
       "      <td>Mike Trout</td>\n",
       "      <td>8.3</td>\n",
       "      <td>8.3</td>\n",
       "      <td>0.3</td>\n",
       "      <td>6.3</td>\n",
       "      <td>5.5</td>\n",
       "      <td>5</td>\n",
       "      <td>65.7</td>\n",
       "      <td>0.5</td>\n",
       "      <td>19</td>\n",
       "    </tr>\n",
       "  </tbody>\n",
       "</table>\n",
       "</div>"
      ],
      "text/plain": [
       "                    player                      WAR                      OFF  \\\n",
       "0  2019 Season WAR Leaders  2019 Season WAR Leaders  2019 Season WAR Leaders   \n",
       "1                   PLAYER                      WAR                      OFF   \n",
       "2           Cody Bellinger                        9                      6.6   \n",
       "3             Alex Bregman                      8.4                      7.7   \n",
       "4               Mike Trout                      8.3                      8.3   \n",
       "\n",
       "                       DEF                      WAA                     TRPG  \\\n",
       "0  2019 Season WAR Leaders  2019 Season WAR Leaders  2019 Season WAR Leaders   \n",
       "1                      DEF                      WAA                     TRPG   \n",
       "2                      1.9                        7                        5   \n",
       "3                      1.2                      6.1                      5.3   \n",
       "4                      0.3                      6.3                      5.5   \n",
       "\n",
       "                      ORPG                      RAA                    WAAWP  \\\n",
       "0  2019 Season WAR Leaders  2019 Season WAR Leaders  2019 Season WAR Leaders   \n",
       "1                     ORPG                      RAA                    WAAWP   \n",
       "2                      4.7                     72.9                      0.5   \n",
       "3                        5                       62                      0.5   \n",
       "4                        5                     65.7                      0.5   \n",
       "\n",
       "  Season  \n",
       "0     19  \n",
       "1     19  \n",
       "2     19  \n",
       "3     19  \n",
       "4     19  "
      ]
     },
     "execution_count": 28,
     "metadata": {},
     "output_type": "execute_result"
    }
   ],
   "source": [
    "data.columns = cols\n",
    "del data['rank']\n",
    "data.head()"
   ]
  },
  {
   "cell_type": "code",
   "execution_count": 29,
   "metadata": {},
   "outputs": [],
   "source": [
    "data = data.dropna(subset=['player'])"
   ]
  },
  {
   "cell_type": "code",
   "execution_count": 30,
   "metadata": {},
   "outputs": [],
   "source": [
    "data = data[~data.player.str.contains(\"WAR\")]"
   ]
  },
  {
   "cell_type": "code",
   "execution_count": 31,
   "metadata": {},
   "outputs": [
    {
     "data": {
      "text/html": [
       "<div>\n",
       "<style scoped>\n",
       "    .dataframe tbody tr th:only-of-type {\n",
       "        vertical-align: middle;\n",
       "    }\n",
       "\n",
       "    .dataframe tbody tr th {\n",
       "        vertical-align: top;\n",
       "    }\n",
       "\n",
       "    .dataframe thead th {\n",
       "        text-align: right;\n",
       "    }\n",
       "</style>\n",
       "<table border=\"1\" class=\"dataframe\">\n",
       "  <thead>\n",
       "    <tr style=\"text-align: right;\">\n",
       "      <th></th>\n",
       "      <th>player</th>\n",
       "      <th>WAR</th>\n",
       "      <th>OFF</th>\n",
       "      <th>DEF</th>\n",
       "      <th>WAA</th>\n",
       "      <th>TRPG</th>\n",
       "      <th>ORPG</th>\n",
       "      <th>RAA</th>\n",
       "      <th>WAAWP</th>\n",
       "      <th>Season</th>\n",
       "    </tr>\n",
       "  </thead>\n",
       "  <tbody>\n",
       "    <tr>\n",
       "      <th>1</th>\n",
       "      <td>PLAYER</td>\n",
       "      <td>WAR</td>\n",
       "      <td>OFF</td>\n",
       "      <td>DEF</td>\n",
       "      <td>WAA</td>\n",
       "      <td>TRPG</td>\n",
       "      <td>ORPG</td>\n",
       "      <td>RAA</td>\n",
       "      <td>WAAWP</td>\n",
       "      <td>19</td>\n",
       "    </tr>\n",
       "    <tr>\n",
       "      <th>2</th>\n",
       "      <td>Cody Bellinger</td>\n",
       "      <td>9</td>\n",
       "      <td>6.6</td>\n",
       "      <td>1.9</td>\n",
       "      <td>7</td>\n",
       "      <td>5</td>\n",
       "      <td>4.7</td>\n",
       "      <td>72.9</td>\n",
       "      <td>0.5</td>\n",
       "      <td>19</td>\n",
       "    </tr>\n",
       "    <tr>\n",
       "      <th>3</th>\n",
       "      <td>Alex Bregman</td>\n",
       "      <td>8.4</td>\n",
       "      <td>7.7</td>\n",
       "      <td>1.2</td>\n",
       "      <td>6.1</td>\n",
       "      <td>5.3</td>\n",
       "      <td>5</td>\n",
       "      <td>62</td>\n",
       "      <td>0.5</td>\n",
       "      <td>19</td>\n",
       "    </tr>\n",
       "    <tr>\n",
       "      <th>4</th>\n",
       "      <td>Mike Trout</td>\n",
       "      <td>8.3</td>\n",
       "      <td>8.3</td>\n",
       "      <td>0.3</td>\n",
       "      <td>6.3</td>\n",
       "      <td>5.5</td>\n",
       "      <td>5</td>\n",
       "      <td>65.7</td>\n",
       "      <td>0.5</td>\n",
       "      <td>19</td>\n",
       "    </tr>\n",
       "    <tr>\n",
       "      <th>5</th>\n",
       "      <td>Marcus Semien</td>\n",
       "      <td>8.1</td>\n",
       "      <td>7.5</td>\n",
       "      <td>1.5</td>\n",
       "      <td>5.8</td>\n",
       "      <td>5.3</td>\n",
       "      <td>5</td>\n",
       "      <td>58.5</td>\n",
       "      <td>0.5</td>\n",
       "      <td>19</td>\n",
       "    </tr>\n",
       "  </tbody>\n",
       "</table>\n",
       "</div>"
      ],
      "text/plain": [
       "           player  WAR  OFF  DEF  WAA  TRPG  ORPG   RAA  WAAWP Season\n",
       "1          PLAYER  WAR  OFF  DEF  WAA  TRPG  ORPG   RAA  WAAWP     19\n",
       "2  Cody Bellinger    9  6.6  1.9    7     5   4.7  72.9    0.5     19\n",
       "3    Alex Bregman  8.4  7.7  1.2  6.1   5.3     5    62    0.5     19\n",
       "4      Mike Trout  8.3  8.3  0.3  6.3   5.5     5  65.7    0.5     19\n",
       "5   Marcus Semien  8.1  7.5  1.5  5.8   5.3     5  58.5    0.5     19"
      ]
     },
     "execution_count": 31,
     "metadata": {},
     "output_type": "execute_result"
    }
   ],
   "source": [
    "data.head()"
   ]
  },
  {
   "cell_type": "code",
   "execution_count": 32,
   "metadata": {},
   "outputs": [
    {
     "data": {
      "text/html": [
       "<div>\n",
       "<style scoped>\n",
       "    .dataframe tbody tr th:only-of-type {\n",
       "        vertical-align: middle;\n",
       "    }\n",
       "\n",
       "    .dataframe tbody tr th {\n",
       "        vertical-align: top;\n",
       "    }\n",
       "\n",
       "    .dataframe thead th {\n",
       "        text-align: right;\n",
       "    }\n",
       "</style>\n",
       "<table border=\"1\" class=\"dataframe\">\n",
       "  <thead>\n",
       "    <tr style=\"text-align: right;\">\n",
       "      <th></th>\n",
       "      <th>player</th>\n",
       "      <th>WAR</th>\n",
       "      <th>OFF</th>\n",
       "      <th>DEF</th>\n",
       "      <th>WAA</th>\n",
       "      <th>TRPG</th>\n",
       "      <th>ORPG</th>\n",
       "      <th>RAA</th>\n",
       "      <th>WAAWP</th>\n",
       "      <th>Season</th>\n",
       "      <th>First Name</th>\n",
       "      <th>Last Name</th>\n",
       "    </tr>\n",
       "  </thead>\n",
       "  <tbody>\n",
       "    <tr>\n",
       "      <th>2</th>\n",
       "      <td>Cody Bellinger</td>\n",
       "      <td>9</td>\n",
       "      <td>6.6</td>\n",
       "      <td>1.9</td>\n",
       "      <td>7</td>\n",
       "      <td>5</td>\n",
       "      <td>4.7</td>\n",
       "      <td>72.9</td>\n",
       "      <td>0.5</td>\n",
       "      <td>19</td>\n",
       "      <td>Cody</td>\n",
       "      <td>Bellinger</td>\n",
       "    </tr>\n",
       "    <tr>\n",
       "      <th>3</th>\n",
       "      <td>Alex Bregman</td>\n",
       "      <td>8.4</td>\n",
       "      <td>7.7</td>\n",
       "      <td>1.2</td>\n",
       "      <td>6.1</td>\n",
       "      <td>5.3</td>\n",
       "      <td>5</td>\n",
       "      <td>62</td>\n",
       "      <td>0.5</td>\n",
       "      <td>19</td>\n",
       "      <td>Alex</td>\n",
       "      <td>Bregman</td>\n",
       "    </tr>\n",
       "    <tr>\n",
       "      <th>4</th>\n",
       "      <td>Mike Trout</td>\n",
       "      <td>8.3</td>\n",
       "      <td>8.3</td>\n",
       "      <td>0.3</td>\n",
       "      <td>6.3</td>\n",
       "      <td>5.5</td>\n",
       "      <td>5</td>\n",
       "      <td>65.7</td>\n",
       "      <td>0.5</td>\n",
       "      <td>19</td>\n",
       "      <td>Mike</td>\n",
       "      <td>Trout</td>\n",
       "    </tr>\n",
       "    <tr>\n",
       "      <th>5</th>\n",
       "      <td>Marcus Semien</td>\n",
       "      <td>8.1</td>\n",
       "      <td>7.5</td>\n",
       "      <td>1.5</td>\n",
       "      <td>5.8</td>\n",
       "      <td>5.3</td>\n",
       "      <td>5</td>\n",
       "      <td>58.5</td>\n",
       "      <td>0.5</td>\n",
       "      <td>19</td>\n",
       "      <td>Marcus</td>\n",
       "      <td>Semien</td>\n",
       "    </tr>\n",
       "    <tr>\n",
       "      <th>6</th>\n",
       "      <td>Justin Verlander</td>\n",
       "      <td>7.8</td>\n",
       "      <td>0</td>\n",
       "      <td>0</td>\n",
       "      <td>5.8</td>\n",
       "      <td>5</td>\n",
       "      <td>3.4</td>\n",
       "      <td>56.6</td>\n",
       "      <td>0.7</td>\n",
       "      <td>19</td>\n",
       "      <td>Justin</td>\n",
       "      <td>Verlander</td>\n",
       "    </tr>\n",
       "  </tbody>\n",
       "</table>\n",
       "</div>"
      ],
      "text/plain": [
       "             player  WAR  OFF  DEF  WAA TRPG ORPG   RAA WAAWP Season  \\\n",
       "2    Cody Bellinger    9  6.6  1.9    7    5  4.7  72.9   0.5     19   \n",
       "3      Alex Bregman  8.4  7.7  1.2  6.1  5.3    5    62   0.5     19   \n",
       "4        Mike Trout  8.3  8.3  0.3  6.3  5.5    5  65.7   0.5     19   \n",
       "5     Marcus Semien  8.1  7.5  1.5  5.8  5.3    5  58.5   0.5     19   \n",
       "6  Justin Verlander  7.8    0    0  5.8    5  3.4  56.6   0.7     19   \n",
       "\n",
       "  First Name  Last Name  \n",
       "2       Cody  Bellinger  \n",
       "3       Alex    Bregman  \n",
       "4       Mike      Trout  \n",
       "5     Marcus     Semien  \n",
       "6     Justin  Verlander  "
      ]
     },
     "execution_count": 32,
     "metadata": {},
     "output_type": "execute_result"
    }
   ],
   "source": [
    "# new data frame with split value columns \n",
    "new = data[\"player\"].str.split(\" \", n = 1, expand = True) \n",
    "  \n",
    "# making separate first name column from new data frame \n",
    "data[\"First Name\"]= new[0] \n",
    "data[\"Last Name\"]= new[1] \n",
    "  \n",
    "data = data.drop(data.index[0])\n",
    "data.head()"
   ]
  },
  {
   "cell_type": "code",
   "execution_count": 52,
   "metadata": {},
   "outputs": [],
   "source": [
    "players = [statsapi.lookup_player(x) for x in data['player']]\n",
    "players[0]"
   ]
  },
  {
   "cell_type": "markdown",
   "metadata": {},
   "source": [
    "## Everything below here is not working yet:"
   ]
  },
  {
   "cell_type": "markdown",
   "metadata": {},
   "source": [
    "#### Trying to loop through players list to pull id's but getting an IndexError: list index out of range"
   ]
  },
  {
   "cell_type": "code",
   "execution_count": 54,
   "metadata": {},
   "outputs": [
    {
     "ename": "IndexError",
     "evalue": "list index out of range",
     "output_type": "error",
     "traceback": [
      "\u001b[1;31m---------------------------------------------------------------------------\u001b[0m",
      "\u001b[1;31mIndexError\u001b[0m                                Traceback (most recent call last)",
      "\u001b[1;32m<ipython-input-54-be40d26ef9fa>\u001b[0m in \u001b[0;36m<module>\u001b[1;34m\u001b[0m\n\u001b[1;32m----> 1\u001b[1;33m \u001b[0mplayers\u001b[0m \u001b[1;33m=\u001b[0m \u001b[1;33m[\u001b[0m\u001b[0mplayers\u001b[0m\u001b[1;33m[\u001b[0m\u001b[0mi\u001b[0m\u001b[1;33m]\u001b[0m\u001b[1;33m[\u001b[0m\u001b[1;36m0\u001b[0m\u001b[1;33m]\u001b[0m \u001b[1;32mfor\u001b[0m \u001b[0mi\u001b[0m \u001b[1;32min\u001b[0m \u001b[0mrange\u001b[0m\u001b[1;33m(\u001b[0m\u001b[0mlen\u001b[0m\u001b[1;33m(\u001b[0m\u001b[0mplayers\u001b[0m\u001b[1;33m)\u001b[0m\u001b[1;33m)\u001b[0m\u001b[1;33m]\u001b[0m\u001b[1;33m\u001b[0m\u001b[1;33m\u001b[0m\u001b[0m\n\u001b[0m",
      "\u001b[1;32m<ipython-input-54-be40d26ef9fa>\u001b[0m in \u001b[0;36m<listcomp>\u001b[1;34m(.0)\u001b[0m\n\u001b[1;32m----> 1\u001b[1;33m \u001b[0mplayers\u001b[0m \u001b[1;33m=\u001b[0m \u001b[1;33m[\u001b[0m\u001b[0mplayers\u001b[0m\u001b[1;33m[\u001b[0m\u001b[0mi\u001b[0m\u001b[1;33m]\u001b[0m\u001b[1;33m[\u001b[0m\u001b[1;36m0\u001b[0m\u001b[1;33m]\u001b[0m \u001b[1;32mfor\u001b[0m \u001b[0mi\u001b[0m \u001b[1;32min\u001b[0m \u001b[0mrange\u001b[0m\u001b[1;33m(\u001b[0m\u001b[0mlen\u001b[0m\u001b[1;33m(\u001b[0m\u001b[0mplayers\u001b[0m\u001b[1;33m)\u001b[0m\u001b[1;33m)\u001b[0m\u001b[1;33m]\u001b[0m\u001b[1;33m\u001b[0m\u001b[1;33m\u001b[0m\u001b[0m\n\u001b[0m",
      "\u001b[1;31mIndexError\u001b[0m: list index out of range"
     ]
    }
   ],
   "source": [
    "players = [players[i][0] for i in range(len(players))]"
   ]
  },
  {
   "cell_type": "markdown",
   "metadata": {},
   "source": [
    "#### testing length/range of player list"
   ]
  },
  {
   "cell_type": "code",
   "execution_count": 49,
   "metadata": {},
   "outputs": [
    {
     "data": {
      "text/plain": [
       "range(0, 500)"
      ]
     },
     "execution_count": 49,
     "metadata": {},
     "output_type": "execute_result"
    }
   ],
   "source": [
    "range(len(players))"
   ]
  },
  {
   "cell_type": "markdown",
   "metadata": {},
   "source": [
    "#### list comprehension to pull id's into list"
   ]
  },
  {
   "cell_type": "code",
   "execution_count": null,
   "metadata": {},
   "outputs": [],
   "source": [
    "player_ids = [players[i]['id'] for range(len(players))]"
   ]
  },
  {
   "cell_type": "markdown",
   "metadata": {},
   "source": [
    "#### adding id's to DF"
   ]
  },
  {
   "cell_type": "code",
   "execution_count": null,
   "metadata": {},
   "outputs": [],
   "source": [
    "data['id'] = player_ids"
   ]
  },
  {
   "cell_type": "markdown",
   "metadata": {},
   "source": [
    "#### creating empty list for records to be added into mongo"
   ]
  },
  {
   "cell_type": "code",
   "execution_count": null,
   "metadata": {},
   "outputs": [],
   "source": [
    "mongo_list = []"
   ]
  },
  {
   "cell_type": "markdown",
   "metadata": {},
   "source": [
    "#### loop to get stat data"
   ]
  },
  {
   "cell_type": "code",
   "execution_count": null,
   "metadata": {},
   "outputs": [],
   "source": [
    "for i in data.index:\n",
    "    #creating url to scrape from ESPN\n",
    "    query_url = 'http://www.espn.com/mlb/player/stats/_/id/' + data['id'][i] + '/' + data['First Name'][i] + '-' + data['Last Name'][i]\n",
    "    #add results to temporary df\n",
    "    temp_df = pd.read_html(url)\n",
    "    #above returns a list of dfs, this line pulls the df that contains the stat table\n",
    "    stat_df = temp_df[1]\n",
    "    #dropping the blank row at the top and the summary row at the bottom\n",
    "    stat_df.drop(stat_df.tail(1).index,inplace=True)\n",
    "    stat_df.drop(stat_df.head(1).index,inplace=True)\n",
    "    #turning the df into a dictionary and adding to the mongo listS\n",
    "    mongo_list.append(stat_df.to_dict('series'))"
   ]
  }
 ],
 "metadata": {
  "kernelspec": {
   "display_name": "Python 3",
   "language": "python",
   "name": "python3"
  },
  "language_info": {
   "codemirror_mode": {
    "name": "ipython",
    "version": 3
   },
   "file_extension": ".py",
   "mimetype": "text/x-python",
   "name": "python",
   "nbconvert_exporter": "python",
   "pygments_lexer": "ipython3",
   "version": "3.7.3"
  }
 },
 "nbformat": 4,
 "nbformat_minor": 4
}
