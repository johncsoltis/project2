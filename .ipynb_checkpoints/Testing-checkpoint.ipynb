{
 "cells": [
  {
   "cell_type": "code",
   "execution_count": 1,
   "metadata": {},
   "outputs": [],
   "source": [
    "from pymongo import MongoClient"
   ]
  },
  {
   "cell_type": "code",
   "execution_count": 7,
   "metadata": {},
   "outputs": [],
   "source": [
    "client = MongoClient('localhost', 27017)"
   ]
  },
  {
   "cell_type": "code",
   "execution_count": 14,
   "metadata": {},
   "outputs": [],
   "source": [
    "db = client.baseball\n",
    "collection = db.players"
   ]
  },
  {
   "cell_type": "code",
   "execution_count": 17,
   "metadata": {},
   "outputs": [
    {
     "name": "stdout",
     "output_type": "stream",
     "text": [
      "{'_id': ObjectId('5d9d3f8ee9594508789d79b5'), 'name': 'Max Scherzer', 'height': '6\\' 2\"', 'years': {'2018': {'WAR': 3.9, 'K/9': 5.6, 'ERA': 3.12}, '2019': {'WAR': 2.543, 'K/9': 10.4, 'ERA': 2.92}}}\n",
      "{'_id': ObjectId('5d9fce06b2d5d31d981924b2'), 'name': 'Gerrit Cole', 'height': '6\\' 4\"', 'years': {'2018': {'WAR': 24.0, 'K/9': 43.0, 'ERA': 1.0}, '2019': {'WAR': 5.8, 'K/9': 12.7, 'ERA': 2.92}}}\n"
     ]
    }
   ],
   "source": [
    "for post in collection.find():\n",
    "        print (post)"
   ]
  },
  {
   "cell_type": "code",
   "execution_count": 18,
   "metadata": {},
   "outputs": [
    {
     "name": "stdout",
     "output_type": "stream",
     "text": [
      "2.543\n",
      "5.8\n"
     ]
    }
   ],
   "source": [
    "for post in collection.find():\n",
    "    print(post['names'])"
   ]
  },
  {
   "cell_type": "code",
   "execution_count": null,
   "metadata": {},
   "outputs": [],
   "source": []
  }
 ],
 "metadata": {
  "kernelspec": {
   "display_name": "Python 3",
   "language": "python",
   "name": "python3"
  },
  "language_info": {
   "codemirror_mode": {
    "name": "ipython",
    "version": 3
   },
   "file_extension": ".py",
   "mimetype": "text/x-python",
   "name": "python",
   "nbconvert_exporter": "python",
   "pygments_lexer": "ipython3",
   "version": "3.7.3"
  }
 },
 "nbformat": 4,
 "nbformat_minor": 2
}
